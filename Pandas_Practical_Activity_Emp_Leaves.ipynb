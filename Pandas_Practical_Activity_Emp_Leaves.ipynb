{
 "cells": [
  {
   "cell_type": "code",
   "execution_count": 14,
   "id": "8698ef93",
   "metadata": {},
   "outputs": [
    {
     "name": "stdout",
     "output_type": "stream",
     "text": [
      "                        Emp_name  Emp_units  Total_leaves  Leaves_used  \\\n",
      "Personnel_no                                                             \n",
      "215                     Shen Lee        1.0            36            0   \n",
      "216                   Leon Buhle        0.5            35            3   \n",
      "217                  Tracy Adams        0.8            35            5   \n",
      "218                  Lebo Sinuka        1.5            36           10   \n",
      "219                Lauren Pierce        1.2            36            5   \n",
      "220                  Monika Bond        2.0            37            8   \n",
      "221               Natahs Allsopp        0.3            35           11   \n",
      "222              Nicholas Winter        1.1            36            9   \n",
      "223           Christopher Eckson        2.2            37           15   \n",
      "224             Siobhan O’Malley        1.5            36            5   \n",
      "\n",
      "              Leaves_rem  \n",
      "Personnel_no              \n",
      "215                   36  \n",
      "216                   32  \n",
      "217                   30  \n",
      "218                   26  \n",
      "219                   31  \n",
      "220                   29  \n",
      "221                   24  \n",
      "222                   27  \n",
      "223                   22  \n",
      "224                   31  \n"
     ]
    }
   ],
   "source": [
    "import pandas as pd\n",
    "import numpy as np\n",
    "\n",
    "data = {\"Emp_name\":['Shen Lee', 'Leon Buhle', 'Tracy Adams', 'Lebo Sinuka', 'Lauren Pierce', 'Monika Bond', \n",
    "                    'Natahs Allsopp', 'Nicholas Winter', 'Christopher Eckson', 'Siobhan O’Malley'], \n",
    "        \"Emp_units\":[1, 0.5, 0.8, 1.5, 1.2, 2, 0.3, 1.1, 2.2, 1.5],\n",
    "        \"Total_leaves\":[36,35,35,36,36,37,35,36,37,36],\n",
    "        \"Leaves_used\":[0,3,5,10,5,8,11,9,15,5],\n",
    "        }\n",
    "\n",
    "row_labels = [215, 216, 217, 218, 219, 220, 221, 222, 223, 224]\n",
    "data_df = pd.DataFrame(data, columns = [\"Emp_name\",\"Emp_units\",\"Total_leaves\",\"Leaves_used\"], index = row_labels)\n",
    "\n",
    "data_df.index.name = \"Personnel_no\"\n",
    "\n",
    "data_df[\"Leaves_rem\"] = data_df[\"Total_leaves\"] - data_df[\"Leaves_used\"]\n",
    "\n",
    "print(data_df)\n"
   ]
  },
  {
   "cell_type": "code",
   "execution_count": null,
   "id": "da9658b8",
   "metadata": {},
   "outputs": [],
   "source": []
  }
 ],
 "metadata": {
  "kernelspec": {
   "display_name": "Python 3 (ipykernel)",
   "language": "python",
   "name": "python3"
  },
  "language_info": {
   "codemirror_mode": {
    "name": "ipython",
    "version": 3
   },
   "file_extension": ".py",
   "mimetype": "text/x-python",
   "name": "python",
   "nbconvert_exporter": "python",
   "pygments_lexer": "ipython3",
   "version": "3.9.12"
  }
 },
 "nbformat": 4,
 "nbformat_minor": 5
}
