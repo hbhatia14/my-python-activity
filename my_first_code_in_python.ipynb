{
 "cells": [
  {
   "cell_type": "code",
   "execution_count": 1,
   "id": "7b031fed",
   "metadata": {},
   "outputs": [
    {
     "name": "stdout",
     "output_type": "stream",
     "text": [
      "My name is Harsh Bhatia\n",
      "The date today is 11th Jan 2023\n"
     ]
    }
   ],
   "source": [
    "#this is my first line of code\n",
    "\n",
    "print(\"My name is Harsh Bhatia\")\n",
    "print(\"The date today is 11th Jan 2023\")\n"
   ]
  },
  {
   "cell_type": "code",
   "execution_count": 2,
   "id": "b3c9f676",
   "metadata": {},
   "outputs": [
    {
     "name": "stdout",
     "output_type": "stream",
     "text": [
      "182900\n",
      "36580.0\n",
      "60500\n"
     ]
    }
   ],
   "source": [
    "a = 45000\n",
    "b = 23400\n",
    "c = 67000\n",
    "d = 34600\n",
    "e = 12900\n",
    "\n",
    "total_sales = a + b + c + d + e\n",
    "average_sales = (total_sales / 5)\n",
    "missing_sales = c - 6500\n",
    "\n",
    "print(total_sales)\n",
    "print(average_sales)\n",
    "print(missing_sales)\n",
    "\n"
   ]
  },
  {
   "cell_type": "code",
   "execution_count": null,
   "id": "c359cb0d",
   "metadata": {},
   "outputs": [],
   "source": []
  }
 ],
 "metadata": {
  "kernelspec": {
   "display_name": "Python 3 (ipykernel)",
   "language": "python",
   "name": "python3"
  },
  "language_info": {
   "codemirror_mode": {
    "name": "ipython",
    "version": 3
   },
   "file_extension": ".py",
   "mimetype": "text/x-python",
   "name": "python",
   "nbconvert_exporter": "python",
   "pygments_lexer": "ipython3",
   "version": "3.9.12"
  }
 },
 "nbformat": 4,
 "nbformat_minor": 5
}
