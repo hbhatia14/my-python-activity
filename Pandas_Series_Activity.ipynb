{
 "cells": [
  {
   "cell_type": "code",
   "execution_count": 5,
   "id": "829c37d1",
   "metadata": {},
   "outputs": [
    {
     "name": "stdout",
     "output_type": "stream",
     "text": [
      "Law Enforcement               123\n",
      "Fire and Rescue Services      224\n",
      "Emergency Medical Services    101\n",
      "Emergency Management          999\n",
      "Public Works                  900\n",
      "dtype: object\n"
     ]
    }
   ],
   "source": [
    "import pandas as pd\n",
    "import numpy as np\n",
    "\n",
    "emergency_numbers = {\"Law Enforcement\":\"123\", \"Fire and Rescue Services\": \"224\",\n",
    "                     \"Emergency Medical Services\":\"101\", \"Emergency Management\":\"999\", \n",
    "                     \"Public Works\":\"900\"}\n",
    "\n",
    "numbers_series = pd.Series(emergency_numbers)\n",
    "\n",
    "print(numbers_series)"
   ]
  },
  {
   "cell_type": "code",
   "execution_count": 4,
   "id": "3f317f17",
   "metadata": {},
   "outputs": [
    {
     "name": "stdout",
     "output_type": "stream",
     "text": [
      "0      Prevention\n",
      "1      mitigation\n",
      "2    preparedness\n",
      "3        response\n",
      "4        recovery\n",
      "dtype: object\n"
     ]
    }
   ],
   "source": [
    "emergency_protocols = [\"Prevention\", \"mitigation\", \"preparedness\", \"response\", \"recovery\"]\n",
    "\n",
    "protocols_series = pd.Series(emergency_protocols)\n",
    "\n",
    "print(protocols_series)"
   ]
  },
  {
   "cell_type": "code",
   "execution_count": 7,
   "id": "5ca8e8b4",
   "metadata": {},
   "outputs": [
    {
     "name": "stdout",
     "output_type": "stream",
     "text": [
      "0          Check carotid pulse (neck)\n",
      "1                    breathing (nose)\n",
      "2    obstructions (nose, ears, mouth)\n",
      "3                 pupils (responsive)\n",
      "4                       consciousness\n",
      "5                     contact details\n",
      "6                           allergies\n",
      "dtype: object\n"
     ]
    }
   ],
   "source": [
    "emergency_checklist = [\"Check carotid pulse (neck)\", \"breathing (nose)\", \n",
    "                       \"obstructions (nose, ears, mouth)\", \"pupils (responsive)\",\n",
    "                       \"consciousness\", \"contact details\", \"allergies\"]\n",
    "\n",
    "checklist_series = pd.Series(emergency_checklist)\n",
    "\n",
    "print(checklist_series)"
   ]
  },
  {
   "cell_type": "code",
   "execution_count": null,
   "id": "fd9ab510",
   "metadata": {},
   "outputs": [],
   "source": []
  }
 ],
 "metadata": {
  "kernelspec": {
   "display_name": "Python 3 (ipykernel)",
   "language": "python",
   "name": "python3"
  },
  "language_info": {
   "codemirror_mode": {
    "name": "ipython",
    "version": 3
   },
   "file_extension": ".py",
   "mimetype": "text/x-python",
   "name": "python",
   "nbconvert_exporter": "python",
   "pygments_lexer": "ipython3",
   "version": "3.9.12"
  }
 },
 "nbformat": 4,
 "nbformat_minor": 5
}
